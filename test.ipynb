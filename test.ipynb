{
 "cells": [
  {
   "cell_type": "code",
   "execution_count": 16,
   "id": "d52442b0",
   "metadata": {},
   "outputs": [],
   "source": [
    "aa = [\n",
    "                    'Apple___Cedar_apple_rust', \n",
    "                    'Apple___healthy', \n",
    "                    'Potato___Late_blight', \n",
    "                    'Potato___healthy',\n",
    "                    'Tomato__Tomato_mosaic_virus',\n",
    "                    'Tomato_healthy'\n",
    "                ]"
   ]
  },
  {
   "cell_type": "code",
   "execution_count": 28,
   "id": "4fdbe850",
   "metadata": {},
   "outputs": [
    {
     "data": {
      "text/plain": [
       "'healthy'"
      ]
     },
     "execution_count": 28,
     "metadata": {},
     "output_type": "execute_result"
    }
   ],
   "source": [
    "index = 5\n",
    "aa[index].split(\"___\")[1] if \"___\" in aa[index] else aa[index].split(\"__\")[1] if \"__\" in aa[index] else aa[index].split(\"_\")[1]\n"
   ]
  },
  {
   "cell_type": "code",
   "execution_count": 17,
   "id": "3dc750f4",
   "metadata": {},
   "outputs": [
    {
     "data": {
      "text/plain": [
       "['Apple|||Cedar|apple|rust',\n",
       " 'Apple|||healthy',\n",
       " 'Potato|||Late|blight',\n",
       " 'Potato|||healthy',\n",
       " 'Tomato||Tomato|mosaic|virus',\n",
       " 'Tomato|healthy']"
      ]
     },
     "execution_count": 17,
     "metadata": {},
     "output_type": "execute_result"
    }
   ],
   "source": [
    "bb = [s.replace(\"_\", \"|\") for s in aa]\n",
    "bb"
   ]
  },
  {
   "cell_type": "code",
   "execution_count": null,
   "id": "797094ee",
   "metadata": {},
   "outputs": [],
   "source": [
    "SYSTEM_PROMPT = \"\"\"You are a plant disease expert. \n",
    "You will respond to the user questions outlining suggested treatments or remedy for '{}' disease in a '{}' plant\"\"\""
   ]
  },
  {
   "cell_type": "code",
   "execution_count": 5,
   "id": "b41307f6",
   "metadata": {},
   "outputs": [
    {
     "data": {
      "text/plain": [
       "'You are a plant disease expert. \\nYou will respond to the user questions outlining suggested treatments or remedy for tomato disease in a blight plant'"
      ]
     },
     "execution_count": 5,
     "metadata": {},
     "output_type": "execute_result"
    }
   ],
   "source": [
    "SYSTEM_PROMPT.format(\"tomato\", \"blight\")"
   ]
  },
  {
   "cell_type": "code",
   "execution_count": 2,
   "id": "9c6d7ff7",
   "metadata": {},
   "outputs": [
    {
     "name": "stderr",
     "output_type": "stream",
     "text": [
      "100%|██████████| 100/100 [00:06<00:00, 16.49it/s]\n"
     ]
    }
   ],
   "source": [
    "from tqdm import tqdm\n",
    "import time\n",
    "\n",
    "for i in tqdm(range(100)):\n",
    "    # Simulate some work\n",
    "    time.sleep(0.05)"
   ]
  }
 ],
 "metadata": {
  "kernelspec": {
   "display_name": ".venv",
   "language": "python",
   "name": "python3"
  },
  "language_info": {
   "codemirror_mode": {
    "name": "ipython",
    "version": 3
   },
   "file_extension": ".py",
   "mimetype": "text/x-python",
   "name": "python",
   "nbconvert_exporter": "python",
   "pygments_lexer": "ipython3",
   "version": "3.10.11"
  }
 },
 "nbformat": 4,
 "nbformat_minor": 5
}
