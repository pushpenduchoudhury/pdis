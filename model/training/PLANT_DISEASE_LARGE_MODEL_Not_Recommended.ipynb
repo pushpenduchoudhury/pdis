{
 "cells": [
  {
   "cell_type": "code",
   "execution_count": 1,
   "id": "a82b8ce6-86c3-4ab5-8a13-d86d17b047d7",
   "metadata": {},
   "outputs": [
    {
     "name": "stdout",
     "output_type": "stream",
     "text": [
      "Requirement already satisfied: tensorflow in c:\\users\\genaikolgpusr32\\python_automation\\lib\\site-packages (2.19.0)\n",
      "Collecting opencv-python\n",
      "  Downloading opencv_python-4.12.0.88-cp37-abi3-win_amd64.whl.metadata (19 kB)\n",
      "Requirement already satisfied: absl-py>=1.0.0 in c:\\users\\genaikolgpusr32\\python_automation\\lib\\site-packages (from tensorflow) (2.3.1)\n",
      "Requirement already satisfied: astunparse>=1.6.0 in c:\\users\\genaikolgpusr32\\python_automation\\lib\\site-packages (from tensorflow) (1.6.3)\n",
      "Requirement already satisfied: flatbuffers>=24.3.25 in c:\\users\\genaikolgpusr32\\python_automation\\lib\\site-packages (from tensorflow) (25.2.10)\n",
      "Requirement already satisfied: gast!=0.5.0,!=0.5.1,!=0.5.2,>=0.2.1 in c:\\users\\genaikolgpusr32\\python_automation\\lib\\site-packages (from tensorflow) (0.6.0)\n",
      "Requirement already satisfied: google-pasta>=0.1.1 in c:\\users\\genaikolgpusr32\\python_automation\\lib\\site-packages (from tensorflow) (0.2.0)\n",
      "Requirement already satisfied: libclang>=13.0.0 in c:\\users\\genaikolgpusr32\\python_automation\\lib\\site-packages (from tensorflow) (18.1.1)\n",
      "Requirement already satisfied: opt-einsum>=2.3.2 in c:\\users\\genaikolgpusr32\\python_automation\\lib\\site-packages (from tensorflow) (3.4.0)\n",
      "Requirement already satisfied: packaging in c:\\users\\genaikolgpusr32\\python_automation\\lib\\site-packages (from tensorflow) (25.0)\n",
      "Requirement already satisfied: protobuf!=4.21.0,!=4.21.1,!=4.21.2,!=4.21.3,!=4.21.4,!=4.21.5,<6.0.0dev,>=3.20.3 in c:\\users\\genaikolgpusr32\\python_automation\\lib\\site-packages (from tensorflow) (5.29.5)\n",
      "Requirement already satisfied: requests<3,>=2.21.0 in c:\\users\\genaikolgpusr32\\python_automation\\lib\\site-packages (from tensorflow) (2.32.4)\n",
      "Requirement already satisfied: setuptools in c:\\users\\genaikolgpusr32\\python_automation\\lib\\site-packages (from tensorflow) (80.9.0)\n",
      "Requirement already satisfied: six>=1.12.0 in c:\\users\\genaikolgpusr32\\python_automation\\lib\\site-packages (from tensorflow) (1.17.0)\n",
      "Requirement already satisfied: termcolor>=1.1.0 in c:\\users\\genaikolgpusr32\\python_automation\\lib\\site-packages (from tensorflow) (3.1.0)\n",
      "Requirement already satisfied: typing-extensions>=3.6.6 in c:\\users\\genaikolgpusr32\\python_automation\\lib\\site-packages (from tensorflow) (4.14.1)\n",
      "Requirement already satisfied: wrapt>=1.11.0 in c:\\users\\genaikolgpusr32\\python_automation\\lib\\site-packages (from tensorflow) (1.17.2)\n",
      "Requirement already satisfied: grpcio<2.0,>=1.24.3 in c:\\users\\genaikolgpusr32\\python_automation\\lib\\site-packages (from tensorflow) (1.74.0)\n",
      "Requirement already satisfied: tensorboard~=2.19.0 in c:\\users\\genaikolgpusr32\\python_automation\\lib\\site-packages (from tensorflow) (2.19.0)\n",
      "Requirement already satisfied: keras>=3.5.0 in c:\\users\\genaikolgpusr32\\python_automation\\lib\\site-packages (from tensorflow) (3.11.1)\n",
      "Requirement already satisfied: numpy<2.2.0,>=1.26.0 in c:\\users\\genaikolgpusr32\\python_automation\\lib\\site-packages (from tensorflow) (2.1.3)\n",
      "Requirement already satisfied: h5py>=3.11.0 in c:\\users\\genaikolgpusr32\\python_automation\\lib\\site-packages (from tensorflow) (3.14.0)\n",
      "Requirement already satisfied: ml-dtypes<1.0.0,>=0.5.1 in c:\\users\\genaikolgpusr32\\python_automation\\lib\\site-packages (from tensorflow) (0.5.3)\n",
      "Requirement already satisfied: wheel<1.0,>=0.23.0 in c:\\users\\genaikolgpusr32\\python_automation\\lib\\site-packages (from astunparse>=1.6.0->tensorflow) (0.45.1)\n",
      "Requirement already satisfied: rich in c:\\users\\genaikolgpusr32\\python_automation\\lib\\site-packages (from keras>=3.5.0->tensorflow) (14.1.0)\n",
      "Requirement already satisfied: namex in c:\\users\\genaikolgpusr32\\python_automation\\lib\\site-packages (from keras>=3.5.0->tensorflow) (0.1.0)\n",
      "Requirement already satisfied: optree in c:\\users\\genaikolgpusr32\\python_automation\\lib\\site-packages (from keras>=3.5.0->tensorflow) (0.17.0)\n",
      "Requirement already satisfied: charset_normalizer<4,>=2 in c:\\users\\genaikolgpusr32\\python_automation\\lib\\site-packages (from requests<3,>=2.21.0->tensorflow) (3.4.2)\n",
      "Requirement already satisfied: idna<4,>=2.5 in c:\\users\\genaikolgpusr32\\python_automation\\lib\\site-packages (from requests<3,>=2.21.0->tensorflow) (3.10)\n",
      "Requirement already satisfied: urllib3<3,>=1.21.1 in c:\\users\\genaikolgpusr32\\python_automation\\lib\\site-packages (from requests<3,>=2.21.0->tensorflow) (2.5.0)\n",
      "Requirement already satisfied: certifi>=2017.4.17 in c:\\users\\genaikolgpusr32\\python_automation\\lib\\site-packages (from requests<3,>=2.21.0->tensorflow) (2025.7.14)\n",
      "Requirement already satisfied: markdown>=2.6.8 in c:\\users\\genaikolgpusr32\\python_automation\\lib\\site-packages (from tensorboard~=2.19.0->tensorflow) (3.8.2)\n",
      "Requirement already satisfied: tensorboard-data-server<0.8.0,>=0.7.0 in c:\\users\\genaikolgpusr32\\python_automation\\lib\\site-packages (from tensorboard~=2.19.0->tensorflow) (0.7.2)\n",
      "Requirement already satisfied: werkzeug>=1.0.1 in c:\\users\\genaikolgpusr32\\python_automation\\lib\\site-packages (from tensorboard~=2.19.0->tensorflow) (3.1.3)\n",
      "Requirement already satisfied: MarkupSafe>=2.1.1 in c:\\users\\genaikolgpusr32\\python_automation\\lib\\site-packages (from werkzeug>=1.0.1->tensorboard~=2.19.0->tensorflow) (3.0.2)\n",
      "Requirement already satisfied: markdown-it-py>=2.2.0 in c:\\users\\genaikolgpusr32\\python_automation\\lib\\site-packages (from rich->keras>=3.5.0->tensorflow) (3.0.0)\n",
      "Requirement already satisfied: pygments<3.0.0,>=2.13.0 in c:\\users\\genaikolgpusr32\\python_automation\\lib\\site-packages (from rich->keras>=3.5.0->tensorflow) (2.19.2)\n",
      "Requirement already satisfied: mdurl~=0.1 in c:\\users\\genaikolgpusr32\\python_automation\\lib\\site-packages (from markdown-it-py>=2.2.0->rich->keras>=3.5.0->tensorflow) (0.1.2)\n",
      "Downloading opencv_python-4.12.0.88-cp37-abi3-win_amd64.whl (39.0 MB)\n",
      "   ---------------------------------------- 0.0/39.0 MB ? eta -:--:--\n",
      "   ---------------------------------------- 0.0/39.0 MB ? eta -:--:--\n",
      "    --------------------------------------- 0.5/39.0 MB 5.6 MB/s eta 0:00:07\n",
      "   - -------------------------------------- 1.6/39.0 MB 4.0 MB/s eta 0:00:10\n",
      "   --- ------------------------------------ 3.1/39.0 MB 5.1 MB/s eta 0:00:07\n",
      "   ---- ----------------------------------- 4.7/39.0 MB 5.9 MB/s eta 0:00:06\n",
      "   ------ --------------------------------- 6.6/39.0 MB 6.5 MB/s eta 0:00:05\n",
      "   -------- ------------------------------- 8.4/39.0 MB 6.9 MB/s eta 0:00:05\n",
      "   ----------- ---------------------------- 10.7/39.0 MB 7.5 MB/s eta 0:00:04\n",
      "   ------------- -------------------------- 12.8/39.0 MB 7.7 MB/s eta 0:00:04\n",
      "   --------------- ------------------------ 15.5/39.0 MB 8.3 MB/s eta 0:00:03\n",
      "   ------------------ --------------------- 17.8/39.0 MB 8.6 MB/s eta 0:00:03\n",
      "   -------------------- ------------------- 19.9/39.0 MB 8.7 MB/s eta 0:00:03\n",
      "   ---------------------- ----------------- 22.3/39.0 MB 9.0 MB/s eta 0:00:02\n",
      "   ------------------------- -------------- 24.4/39.0 MB 9.0 MB/s eta 0:00:02\n",
      "   --------------------------- ------------ 26.5/39.0 MB 9.2 MB/s eta 0:00:02\n",
      "   ----------------------------- ---------- 28.8/39.0 MB 9.3 MB/s eta 0:00:02\n",
      "   ------------------------------- -------- 30.9/39.0 MB 9.4 MB/s eta 0:00:01\n",
      "   ------------------------------- -------- 31.2/39.0 MB 9.2 MB/s eta 0:00:01\n",
      "   ------------------------------- -------- 31.2/39.0 MB 9.2 MB/s eta 0:00:01\n",
      "   ------------------------------- -------- 31.2/39.0 MB 9.2 MB/s eta 0:00:01\n",
      "   ------------------------------- -------- 31.2/39.0 MB 9.2 MB/s eta 0:00:01\n",
      "   ------------------------------- -------- 31.2/39.0 MB 9.2 MB/s eta 0:00:01\n",
      "   ------------------------------- -------- 31.2/39.0 MB 9.2 MB/s eta 0:00:01\n",
      "   ------------------------------- -------- 31.2/39.0 MB 9.2 MB/s eta 0:00:01\n",
      "   ------------------------------- -------- 31.2/39.0 MB 9.2 MB/s eta 0:00:01\n",
      "   ------------------------------- -------- 31.2/39.0 MB 9.2 MB/s eta 0:00:01\n",
      "   ------------------------------- -------- 31.2/39.0 MB 9.2 MB/s eta 0:00:01\n",
      "   ------------------------------- -------- 31.2/39.0 MB 9.2 MB/s eta 0:00:01\n",
      "   ------------------------------- -------- 31.2/39.0 MB 9.2 MB/s eta 0:00:01\n",
      "   ------------------------------- -------- 31.2/39.0 MB 9.2 MB/s eta 0:00:01\n",
      "   -------------------------------- ------- 31.5/39.0 MB 5.0 MB/s eta 0:00:02\n",
      "   --------------------------------- ------ 32.2/39.0 MB 4.9 MB/s eta 0:00:02\n",
      "   ---------------------------------- ----- 33.3/39.0 MB 4.9 MB/s eta 0:00:02\n",
      "   ----------------------------------- ---- 34.9/39.0 MB 5.0 MB/s eta 0:00:01\n",
      "   ------------------------------------- -- 36.2/39.0 MB 5.0 MB/s eta 0:00:01\n",
      "   ------------------------------------- -- 37.0/39.0 MB 5.0 MB/s eta 0:00:01\n",
      "   ---------------------------------------  38.8/39.0 MB 5.1 MB/s eta 0:00:01\n",
      "   ---------------------------------------- 39.0/39.0 MB 5.0 MB/s eta 0:00:00\n",
      "Installing collected packages: opencv-python\n",
      "Successfully installed opencv-python-4.12.0.88\n"
     ]
    },
    {
     "name": "stderr",
     "output_type": "stream",
     "text": [
      "\n",
      "[notice] A new release of pip is available: 24.3.1 -> 25.2\n",
      "[notice] To update, run: python.exe -m pip install --upgrade pip\n"
     ]
    }
   ],
   "source": [
    "!pip install tensorflow opencv-python"
   ]
  },
  {
   "cell_type": "code",
   "execution_count": null,
   "id": "dd982bec-0b03-406e-b9dc-7a84743237f5",
   "metadata": {},
   "outputs": [
    {
     "name": "stdout",
     "output_type": "stream",
     "text": [
      "Found 35725 images belonging to 23 classes.\n",
      "Found 35725 images belonging to 23 classes.\n"
     ]
    },
    {
     "data": {
      "text/html": [
       "<pre style=\"white-space:pre;overflow-x:auto;line-height:normal;font-family:Menlo,'DejaVu Sans Mono',consolas,'Courier New',monospace\"><span style=\"font-weight: bold\">Model: \"sequential\"</span>\n",
       "</pre>\n"
      ],
      "text/plain": [
       "\u001b[1mModel: \"sequential\"\u001b[0m\n"
      ]
     },
     "metadata": {},
     "output_type": "display_data"
    },
    {
     "data": {
      "text/html": [
       "<pre style=\"white-space:pre;overflow-x:auto;line-height:normal;font-family:Menlo,'DejaVu Sans Mono',consolas,'Courier New',monospace\">┏━━━━━━━━━━━━━━━━━━━━━━━━━━━━━━━━━━━━━━┳━━━━━━━━━━━━━━━━━━━━━━━━━━━━━┳━━━━━━━━━━━━━━━━━┓\n",
       "┃<span style=\"font-weight: bold\"> Layer (type)                         </span>┃<span style=\"font-weight: bold\"> Output Shape                </span>┃<span style=\"font-weight: bold\">         Param # </span>┃\n",
       "┡━━━━━━━━━━━━━━━━━━━━━━━━━━━━━━━━━━━━━━╇━━━━━━━━━━━━━━━━━━━━━━━━━━━━━╇━━━━━━━━━━━━━━━━━┩\n",
       "│ resnet50 (<span style=\"color: #0087ff; text-decoration-color: #0087ff\">Functional</span>)                │ (<span style=\"color: #00d7ff; text-decoration-color: #00d7ff\">None</span>, <span style=\"color: #00af00; text-decoration-color: #00af00\">7</span>, <span style=\"color: #00af00; text-decoration-color: #00af00\">7</span>, <span style=\"color: #00af00; text-decoration-color: #00af00\">2048</span>)          │      <span style=\"color: #00af00; text-decoration-color: #00af00\">23,587,712</span> │\n",
       "├──────────────────────────────────────┼─────────────────────────────┼─────────────────┤\n",
       "│ global_average_pooling2d             │ (<span style=\"color: #00d7ff; text-decoration-color: #00d7ff\">None</span>, <span style=\"color: #00af00; text-decoration-color: #00af00\">2048</span>)                │               <span style=\"color: #00af00; text-decoration-color: #00af00\">0</span> │\n",
       "│ (<span style=\"color: #0087ff; text-decoration-color: #0087ff\">GlobalAveragePooling2D</span>)             │                             │                 │\n",
       "├──────────────────────────────────────┼─────────────────────────────┼─────────────────┤\n",
       "│ dense (<span style=\"color: #0087ff; text-decoration-color: #0087ff\">Dense</span>)                        │ (<span style=\"color: #00d7ff; text-decoration-color: #00d7ff\">None</span>, <span style=\"color: #00af00; text-decoration-color: #00af00\">1024</span>)                │       <span style=\"color: #00af00; text-decoration-color: #00af00\">2,098,176</span> │\n",
       "├──────────────────────────────────────┼─────────────────────────────┼─────────────────┤\n",
       "│ dense_1 (<span style=\"color: #0087ff; text-decoration-color: #0087ff\">Dense</span>)                      │ (<span style=\"color: #00d7ff; text-decoration-color: #00d7ff\">None</span>, <span style=\"color: #00af00; text-decoration-color: #00af00\">23</span>)                  │          <span style=\"color: #00af00; text-decoration-color: #00af00\">23,575</span> │\n",
       "└──────────────────────────────────────┴─────────────────────────────┴─────────────────┘\n",
       "</pre>\n"
      ],
      "text/plain": [
       "┏━━━━━━━━━━━━━━━━━━━━━━━━━━━━━━━━━━━━━━┳━━━━━━━━━━━━━━━━━━━━━━━━━━━━━┳━━━━━━━━━━━━━━━━━┓\n",
       "┃\u001b[1m \u001b[0m\u001b[1mLayer (type)                        \u001b[0m\u001b[1m \u001b[0m┃\u001b[1m \u001b[0m\u001b[1mOutput Shape               \u001b[0m\u001b[1m \u001b[0m┃\u001b[1m \u001b[0m\u001b[1m        Param #\u001b[0m\u001b[1m \u001b[0m┃\n",
       "┡━━━━━━━━━━━━━━━━━━━━━━━━━━━━━━━━━━━━━━╇━━━━━━━━━━━━━━━━━━━━━━━━━━━━━╇━━━━━━━━━━━━━━━━━┩\n",
       "│ resnet50 (\u001b[38;5;33mFunctional\u001b[0m)                │ (\u001b[38;5;45mNone\u001b[0m, \u001b[38;5;34m7\u001b[0m, \u001b[38;5;34m7\u001b[0m, \u001b[38;5;34m2048\u001b[0m)          │      \u001b[38;5;34m23,587,712\u001b[0m │\n",
       "├──────────────────────────────────────┼─────────────────────────────┼─────────────────┤\n",
       "│ global_average_pooling2d             │ (\u001b[38;5;45mNone\u001b[0m, \u001b[38;5;34m2048\u001b[0m)                │               \u001b[38;5;34m0\u001b[0m │\n",
       "│ (\u001b[38;5;33mGlobalAveragePooling2D\u001b[0m)             │                             │                 │\n",
       "├──────────────────────────────────────┼─────────────────────────────┼─────────────────┤\n",
       "│ dense (\u001b[38;5;33mDense\u001b[0m)                        │ (\u001b[38;5;45mNone\u001b[0m, \u001b[38;5;34m1024\u001b[0m)                │       \u001b[38;5;34m2,098,176\u001b[0m │\n",
       "├──────────────────────────────────────┼─────────────────────────────┼─────────────────┤\n",
       "│ dense_1 (\u001b[38;5;33mDense\u001b[0m)                      │ (\u001b[38;5;45mNone\u001b[0m, \u001b[38;5;34m23\u001b[0m)                  │          \u001b[38;5;34m23,575\u001b[0m │\n",
       "└──────────────────────────────────────┴─────────────────────────────┴─────────────────┘\n"
      ]
     },
     "metadata": {},
     "output_type": "display_data"
    },
    {
     "data": {
      "text/html": [
       "<pre style=\"white-space:pre;overflow-x:auto;line-height:normal;font-family:Menlo,'DejaVu Sans Mono',consolas,'Courier New',monospace\"><span style=\"font-weight: bold\"> Total params: </span><span style=\"color: #00af00; text-decoration-color: #00af00\">25,709,463</span> (98.07 MB)\n",
       "</pre>\n"
      ],
      "text/plain": [
       "\u001b[1m Total params: \u001b[0m\u001b[38;5;34m25,709,463\u001b[0m (98.07 MB)\n"
      ]
     },
     "metadata": {},
     "output_type": "display_data"
    },
    {
     "data": {
      "text/html": [
       "<pre style=\"white-space:pre;overflow-x:auto;line-height:normal;font-family:Menlo,'DejaVu Sans Mono',consolas,'Courier New',monospace\"><span style=\"font-weight: bold\"> Trainable params: </span><span style=\"color: #00af00; text-decoration-color: #00af00\">2,121,751</span> (8.09 MB)\n",
       "</pre>\n"
      ],
      "text/plain": [
       "\u001b[1m Trainable params: \u001b[0m\u001b[38;5;34m2,121,751\u001b[0m (8.09 MB)\n"
      ]
     },
     "metadata": {},
     "output_type": "display_data"
    },
    {
     "data": {
      "text/html": [
       "<pre style=\"white-space:pre;overflow-x:auto;line-height:normal;font-family:Menlo,'DejaVu Sans Mono',consolas,'Courier New',monospace\"><span style=\"font-weight: bold\"> Non-trainable params: </span><span style=\"color: #00af00; text-decoration-color: #00af00\">23,587,712</span> (89.98 MB)\n",
       "</pre>\n"
      ],
      "text/plain": [
       "\u001b[1m Non-trainable params: \u001b[0m\u001b[38;5;34m23,587,712\u001b[0m (89.98 MB)\n"
      ]
     },
     "metadata": {},
     "output_type": "display_data"
    },
    {
     "name": "stderr",
     "output_type": "stream",
     "text": [
      "C:\\Users\\GENAIKOLGPUSR32\\Python_Automation\\Lib\\site-packages\\keras\\src\\trainers\\data_adapters\\py_dataset_adapter.py:121: UserWarning: Your `PyDataset` class should call `super().__init__(**kwargs)` in its constructor. `**kwargs` can include `workers`, `use_multiprocessing`, `max_queue_size`. Do not pass these arguments to `fit()`, as they will be ignored.\n",
      "  self._warn_if_super_not_called()\n"
     ]
    },
    {
     "name": "stdout",
     "output_type": "stream",
     "text": [
      "\u001b[1m  66/1117\u001b[0m \u001b[32m━\u001b[0m\u001b[37m━━━━━━━━━━━━━━━━━━━\u001b[0m \u001b[1m51:47\u001b[0m 3s/step - accuracy: 0.0734 - loss: 3.2785"
     ]
    }
   ],
   "source": [
    "import tensorflow as tf\n",
    "from tensorflow.keras.preprocessing.image import ImageDataGenerator\n",
    "from tensorflow.keras.applications import ResNet50\n",
    "from tensorflow.keras import layers, models\n",
    "import numpy as np\n",
    "import cv2\n",
    "import os\n",
    "\n",
    "# Set up dataset paths (modify to your dataset location)\n",
    "train_dir = 'C:/Users/GENAIKOLGPUSR32/Downloads/archive (1)/Dataset'\n",
    "#validation_dir = 'C:/Users/GENAIKOLGPUSR32/Downloads/archive (1)/validation/'\n",
    "validation_dir = 'C:/Users/GENAIKOLGPUSR32/Downloads/archive (1)/Dataset'\n",
    "# Define treatment recommendations\n",
    "disease_treatments = {\n",
    "    'disease_1': 'Apply fungicide X and water the plant properly.',\n",
    "    'disease_2': 'Use pesticide Y and prune infected leaves.',\n",
    "    'disease_3': 'Water less frequently, and ensure good soil drainage.',\n",
    "    'healthy': 'No treatment required. Plant is healthy.'\n",
    "}\n",
    "\n",
    "# Function to load and preprocess images\n",
    "def preprocess_image(image_path):\n",
    "    img = cv2.imread(image_path)\n",
    "    img = cv2.resize(img, (224, 224))  # Resizing to the model's expected input size\n",
    "    img = np.expand_dims(img, axis=0)  # Adding batch dimension\n",
    "    img = img / 255.0  # Normalize to [0, 1]\n",
    "    return img# Set up ImageDataGenerators for training and validation\n",
    "train_datagen = ImageDataGenerator(\n",
    "    rescale=1./255,\n",
    "    rotation_range=30,\n",
    "    width_shift_range=0.2,\n",
    "    height_shift_range=0.2,\n",
    "    shear_range=0.2,\n",
    "    zoom_range=0.2,\n",
    "    horizontal_flip=True,\n",
    "    fill_mode='nearest'\n",
    ")\n",
    "\n",
    "validation_datagen = ImageDataGenerator(rescale=1./255)\n",
    "\n",
    "train_generator = train_datagen.flow_from_directory(\n",
    "    train_dir,\n",
    "    target_size=(224, 224),\n",
    "    batch_size=32,\n",
    "    class_mode='categorical'\n",
    ")\n",
    "\n",
    "validation_generator = validation_datagen.flow_from_directory(\n",
    "    validation_dir,\n",
    "    target_size=(224, 224),\n",
    "    batch_size=32,\n",
    "    class_mode='categorical'\n",
    ")\n",
    "\n",
    "# Get number of classes from the training data generator\n",
    "num_classes = len(train_generator.class_indices)\n",
    "\n",
    "def build_model():\n",
    "    base_model = ResNet50(weights='imagenet', include_top=False, input_shape=(224, 224, 3))\n",
    "    base_model.trainable = False\n",
    "    \n",
    "    model = models.Sequential([\n",
    "        base_model,\n",
    "        layers.GlobalAveragePooling2D(),\n",
    "        layers.Dense(1024, activation='relu'),\n",
    "        layers.Dense(num_classes, activation='softmax')  # Output layer adjusted\n",
    "    ])\n",
    "    \n",
    "    model.compile(optimizer='adam', loss='categorical_crossentropy', metrics=['accuracy'])\n",
    "    return model\n",
    "\n",
    "# model = build_model()\n",
    "\n",
    "model = build_model()\n",
    "model.summary()\n",
    "# Train the model\n",
    "history = model.fit(\n",
    "    train_generator,\n",
    "    epochs=1,\n",
    "    validation_data=validation_generator\n",
    ")\n",
    "\n",
    "\n",
    "\n",
    "\n",
    "\n",
    "def predict_disease(image_path):\n",
    "    img = preprocess_image(image_path)\n",
    "    prediction = model.predict(img)\n",
    "    \n",
    "    # Get the index with the highest confidence\n",
    "    predicted_class_index = np.argmax(prediction)\n",
    "    \n",
    "    # Map the class index to the corresponding disease\n",
    "    class_labels = list(disease_treatments.keys())\n",
    "    predicted_disease = class_labels[predicted_class_index]\n",
    "    \n",
    "    # Get treatment recommendations\n",
    "    treatment = disease_treatments.get(predicted_disease, \"No treatment available.\")\n",
    "    \n",
    "    return predicted_disease, treatment\n",
    "\n",
    "# Example usage:\n",
    "image_path = 'C:/Users/GENAIKOLGPUSR32/Downloads/archive (1)/validation/Apple___healthy/f902a6a0-a38b-441d-bd7e-5deb16ed709c___RS_HL 7727.jpg'\n",
    "disease, treatment = predict_disease(image_path)\n",
    "print(f\"Predicted Disease: {disease}\")\n",
    "print(f\"Recommended Treatment: {treatment}\")\n",
    "\n",
    "\n",
    "\n",
    "\n",
    "# Save the trained model\n",
    "model.save('plant_disease_model.h5')\n",
    "\n",
    "# Load the model for inference later\n",
    "loaded_model = tf.keras.models.load_model('plant_disease_model.h5')\n",
    "\n",
    "\n",
    "\n",
    "\n",
    "\n",
    "\n",
    "\n",
    "\n"
   ]
  },
  {
   "cell_type": "code",
   "execution_count": null,
   "id": "76d7f768-8e60-4075-ae1f-933341abee77",
   "metadata": {},
   "outputs": [],
   "source": [
    "plot_model(model, to_file='plant_disease_cnn_architecture.png', show_shapes=True, show_layer_names=True)\n",
    "print(\"Model architecture saved as 'plant_disease_cnn_architecture.png'\")"
   ]
  }
 ],
 "metadata": {
  "kernelspec": {
   "display_name": "Python 3 (ipykernel)",
   "language": "python",
   "name": "python3"
  },
  "language_info": {
   "codemirror_mode": {
    "name": "ipython",
    "version": 3
   },
   "file_extension": ".py",
   "mimetype": "text/x-python",
   "name": "python",
   "nbconvert_exporter": "python",
   "pygments_lexer": "ipython3",
   "version": "3.12.8"
  }
 },
 "nbformat": 4,
 "nbformat_minor": 5
}
